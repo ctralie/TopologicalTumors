{
 "cells": [
  {
   "cell_type": "markdown",
   "id": "f0e605bc",
   "metadata": {},
   "source": [
    "Condense features into X, y and run some simple regressions, plotting the accuracy and ROC curves"
   ]
  },
  {
   "cell_type": "code",
   "execution_count": null,
   "id": "616f67e2",
   "metadata": {},
   "outputs": [],
   "source": [
    "%load_ext autoreload\n",
    "%autoreload 2\n",
    "from IPython.core.display import display, HTML\n",
    "import numpy as np\n",
    "import matplotlib.pyplot as plt\n",
    "import sys\n",
    "import umap\n",
    "from sklearn.linear_model import LogisticRegressionCV, LassoCV\n",
    "import torch\n",
    "from torchmetrics import ROC, AUROC\n",
    "sys.path.append(\"../src\")\n",
    "from datasets import *\n",
    "from models import *\n",
    "\n",
    "metadata_path = \"../Data/UCSF-PDGM-metadata_v2.csv\"\n",
    "y_fn = lambda metadata, ID: alive_fn(metadata, ID, 365)\n",
    "#y_fn = days_alive_fn"
   ]
  },
  {
   "cell_type": "code",
   "execution_count": null,
   "id": "c209bdad",
   "metadata": {},
   "outputs": [],
   "source": [
    "np.random.seed(0)\n",
    "perc = 0.9 # Percent to use for training\n",
    "perm_train = np.array([]) # permutation for train/test splitting\n",
    "perm_test = np.array([])\n",
    "\n",
    "features = [\"alpha_total\", \"connectedcomponents\", \"cubical_total\", \"d2\", \"shapehist\", \"shapehistpca\", \"shapeshellhist\", \"spinimages\"]\n",
    "data = {}\n",
    "roc = ROC(task=\"binary\")\n",
    "for feature in features:\n",
    "    X, y = condense_dataset(\"../preprocessed/{}\".format(feature), metadata_path, y_fn)\n",
    "    if perm_train.size == 0:\n",
    "        # Setup train/test split\n",
    "        N = int(perc*X.shape[0])\n",
    "        perm = np.random.permutation(X.shape[0])\n",
    "        perm_train = perm[0:N]\n",
    "        perm_test = perm[N::]\n",
    "    \n",
    "    X_train, y_train = X[perm_train, :], y[perm_train]\n",
    "    X_test, y_test = X[perm_test, :], y[perm_test]\n",
    "    data[feature] = {\"X_train\":X_train, \"y_train\":y_train}\n",
    "    pickle.dump({\"X\":X, \"y\":y}, open(\"../{}.pkl\".format(feature), \"wb\"))\n",
    "    \n",
    "    \n",
    "    clf = LogisticRegressionCV(cv=5, random_state=0).fit(X_train, y_train)\n",
    "    score = clf.score(X_test, y_test)\n",
    "    pred = torch.from_numpy(np.array(clf.predict_proba(X_test)[:, 1]))\n",
    "    target = torch.from_numpy(np.array(y_test, dtype=int))\n",
    "    data[feature][\"roc\"] = roc(pred, target)\n",
    "    data[feature][\"clf\"] = clf\n",
    "    data[feature][\"roc\"]\n",
    "    data[feature][\"score\"] = score\n",
    "    print(feature, score)"
   ]
  },
  {
   "cell_type": "code",
   "execution_count": null,
   "id": "53330750",
   "metadata": {
    "scrolled": false
   },
   "outputs": [],
   "source": [
    "s = \"<table><tr><td><h1>Feature</h1></td><td><h1>Num Dimensions</h1></td><td><center><h1>Accuracy</h1></center></td><td><center><h1>ROC</h1></center></td></tr>\"\n",
    "for key in data.keys():\n",
    "    dim = data[key][\"X_train\"].shape[1]\n",
    "    (fp, tp, _) = data[key][\"roc\"]\n",
    "    roc_img = get_roc_image_html(fp, tp, key, (4, 4))\n",
    "    score = data[key][\"score\"]\n",
    "    s += \"<tr><td><center><h3>{}</h3></center></td><td><center><h3>{}</h3></center></td><td><center><h3>{:.3f}</h3></center></td><td>{}</td></tr>\\n\".format(key, dim, score, roc_img)\n",
    "s += \"</table>\"\n",
    "display(HTML(s))\n",
    "fout = open(\"results.html\", \"w\")\n",
    "fout.write(s)\n",
    "fout.close()"
   ]
  },
  {
   "cell_type": "code",
   "execution_count": null,
   "id": "e995dfb6",
   "metadata": {},
   "outputs": [],
   "source": [
    "for key in data.keys():\n",
    "    clf = data[key][\"clf\"]\n",
    "    scores = clf.scores_[True]\n",
    "    print(key, np.mean(np.max(scores, axis=1)))"
   ]
  },
  {
   "cell_type": "code",
   "execution_count": null,
   "id": "a0224eae",
   "metadata": {},
   "outputs": [],
   "source": [
    "clf.coef_.shape"
   ]
  },
  {
   "cell_type": "code",
   "execution_count": null,
   "id": "ba507cee",
   "metadata": {},
   "outputs": [],
   "source": [
    "\"\"\"\n",
    "from sklearn.decomposition import PCA\n",
    "\n",
    "pca = PCA(n_components=2)\n",
    "z = pca.fit_transform(X)\n",
    "plt.figure()\n",
    "plt.scatter(z[:, 0], z[:, 1], c=y)\n",
    "\n",
    "\n",
    "reducer = umap.UMAP(random_state=42)\n",
    "reducer.fit(X)\n",
    "z = reducer.transform(X)\n",
    "plt.figure()\n",
    "plt.scatter(z[:, 0], z[:, 1], c=y)\n",
    "\"\"\""
   ]
  }
 ],
 "metadata": {
  "kernelspec": {
   "display_name": "Python 3 (ipykernel)",
   "language": "python",
   "name": "python3"
  },
  "language_info": {
   "codemirror_mode": {
    "name": "ipython",
    "version": 3
   },
   "file_extension": ".py",
   "mimetype": "text/x-python",
   "name": "python",
   "nbconvert_exporter": "python",
   "pygments_lexer": "ipython3",
   "version": "3.9.16"
  }
 },
 "nbformat": 4,
 "nbformat_minor": 5
}
