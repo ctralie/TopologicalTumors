{
 "cells": [
  {
   "cell_type": "markdown",
   "id": "d4c94223",
   "metadata": {},
   "source": [
    "# Precompute all persistence diagrams"
   ]
  },
  {
   "cell_type": "code",
   "execution_count": null,
   "id": "6a70dda0",
   "metadata": {},
   "outputs": [],
   "source": [
    "%load_ext autoreload\n",
    "%autoreload 2\n",
    "import nibabel as nib\n",
    "import numpy as np \n",
    "import matplotlib.pyplot as plt\n",
    "from skimage import measure # For marching cubes\n",
    "import polyscope as ps # For mesh display\n",
    "from persim import plot_diagrams, PersistenceImager\n",
    "import pandas as pd\n",
    "import os\n",
    "import sys\n",
    "import skimage\n",
    "import skimage.io\n",
    "sys.path.append(\"../src\")\n",
    "import glob\n",
    "from geomstats import *\n",
    "from topostats import *\n",
    "from kernels import *\n",
    "from utils3d import *\n",
    "\n",
    "\n",
    "def load_dictionary(metadata_path):\n",
    "    df = pd.read_csv(metadata_path)\n",
    "    data = {}\n",
    "    for index, row in df.iterrows():\n",
    "        patient_id = row[\"ID\"]\n",
    "        patient_id = \"M-0\".join(patient_id.split(\"M-\")) #File paths have an extra 0 in ID\n",
    "        data[patient_id] = row\n",
    "    del data[\"UCSF-PDGM-0541\"] # Skip Patient 541 because segmentation file is empty\n",
    "    return data\n",
    "\n",
    "def argsort(seq):\n",
    "    return np.array(sorted(range(len(seq)), key=seq.__getitem__), dtype=int)\n",
    "\n",
    "metadata_path = \"../Data/UCSF-PDGM-metadata_v2.csv\"\n",
    "all_data_path = \"../Data/UCSF-PDGM-v3\"\n",
    "data = load_dictionary(metadata_path) \n",
    "\n",
    "patients = list(data.keys())\n",
    "diagnosis = [data[p][\"Final pathologic diagnosis (WHO 2021)\"] for p in patients]\n",
    "dead = np.array([data[p][\"1-dead 0-alive\"] for p in patients])\n",
    "# Sort by dead/alive first, then by diagnosis\n",
    "idx = np.argsort(dead)\n",
    "idx = idx[argsort([diagnosis[i] for i in idx])]\n",
    "patients = [patients[i] for i in idx]\n",
    "\n",
    "iso_names = {1:\"Necrotic\", 2:\"Edema\", 4:\"Main Tumor\"} # What the labels actually mean\n",
    "iso_levels = [2, 4, 1] # Column order of the labels\n",
    "\n",
    "for patient in os.listdir(all_data_path):\n",
    "    print(\".\", end=\"\")\n",
    "    patient_folder_path = os.path.join(all_data_path, patient)\n",
    "    patient = patient[:-6]\n",
    "\n",
    "    tumor_seg_path = patient_folder_path + \"/\" + patient_folder_path[-20:-6] + \"_tumor_segmentation.nii.gz\"\n",
    "    if not os.path.exists(tumor_seg_path) or not patient in data:\n",
    "        continue\n",
    "    tumor_seg_nifti = nib.load(tumor_seg_path)\n",
    "    tumor_seg_mat = tumor_seg_nifti.get_fdata()\n",
    "    \n",
    "    for k, level in enumerate(iso_levels):\n",
    "        binary = tumor_seg_mat==level\n",
    "        level_name = iso_names[level]\n",
    "        B = crop_binary_volume(binary)\n",
    "        data[patient][\"B{}\".format(level_name)] = B\n",
    "        X = binary_volume_2coords(binary)\n",
    "        data[patient][\"X{}\".format(level_name)] = X"
   ]
  },
  {
   "cell_type": "markdown",
   "id": "4662a73b",
   "metadata": {},
   "source": [
    "## Alpha Filtrations"
   ]
  },
  {
   "cell_type": "code",
   "execution_count": null,
   "id": "a5935c63",
   "metadata": {},
   "outputs": [],
   "source": [
    "to_delete = []\n",
    "for p in data:\n",
    "    if not \"XEdema\" in data[p].keys():\n",
    "        to_delete.append(p)\n",
    "print(to_delete)\n",
    "for p in to_delete:\n",
    "    del data[p]\n",
    "print(len(data))"
   ]
  },
  {
   "cell_type": "code",
   "execution_count": null,
   "id": "2e65d204",
   "metadata": {},
   "outputs": [],
   "source": [
    "persistence_cutoff = 1\n",
    "\n",
    "for patient in data:\n",
    "    print(\".\", end=\"\")\n",
    "    for i, name in enumerate(iso_levels):\n",
    "        name = iso_names[name]\n",
    "        X = data[patient][\"X{}\".format(name)]\n",
    "        PDs = get_alpha_filtration_3d(X)\n",
    "        PDs = remove_infinite(PDs)\n",
    "        for k in range(len(PDs)):\n",
    "            Ik = PDs[k]\n",
    "            if Ik.size > 0:\n",
    "                PDs[k] = Ik[Ik[:, 1]-Ik[:, 0] > persistence_cutoff, :]\n",
    "        data[patient][\"{}_alpha_PDs\".format(name)] = PDs"
   ]
  },
  {
   "cell_type": "markdown",
   "id": "6cbdfff8",
   "metadata": {},
   "source": [
    "## Convolved Sublevelset Cubical Filtrations"
   ]
  },
  {
   "cell_type": "code",
   "execution_count": null,
   "id": "f8eb3917",
   "metadata": {},
   "outputs": [],
   "source": [
    "kernels = get_random_3d_kernels(5, 10)\n",
    "kernels = [gauss3d(w=3), gauss3d(w=5), gauss3d(w=7), laplacian3d(w=3), laplacian3d(w=5), laplacian3d(w=7)] + kernels\n",
    "\n",
    "\n",
    "for patient in data:\n",
    "    print(\".\", end=\"\")\n",
    "    for i, level in enumerate(iso_levels):\n",
    "        name = iso_names[level]\n",
    "        key = \"{}_cubical_PDs\".format(name)\n",
    "        if key in data[patient]:\n",
    "            continue\n",
    "        B = data[patient][\"B{}\".format(name)]\n",
    "        PDs = []\n",
    "        for kernel in kernels:\n",
    "            PDs += get_binary_kernel_cubical_filtration(B, kernel)\n",
    "        PDs = remove_infinite(PDs)\n",
    "        data[patient][key] = PDs"
   ]
  },
  {
   "cell_type": "markdown",
   "id": "0347cc7c",
   "metadata": {},
   "source": [
    "## Save Data"
   ]
  },
  {
   "cell_type": "code",
   "execution_count": null,
   "id": "e86e2a77",
   "metadata": {},
   "outputs": [],
   "source": [
    "for patient in data:\n",
    "    filename = \"../preprocessed/{}.pkl\".format(patient)\n",
    "    pickle.dump(data[patient], open(filename, \"wb\"))"
   ]
  },
  {
   "cell_type": "code",
   "execution_count": null,
   "id": "e33f607a",
   "metadata": {},
   "outputs": [],
   "source": []
  }
 ],
 "metadata": {
  "kernelspec": {
   "display_name": "Python 3 (ipykernel)",
   "language": "python",
   "name": "python3"
  },
  "language_info": {
   "codemirror_mode": {
    "name": "ipython",
    "version": 3
   },
   "file_extension": ".py",
   "mimetype": "text/x-python",
   "name": "python",
   "nbconvert_exporter": "python",
   "pygments_lexer": "ipython3",
   "version": "3.9.16"
  }
 },
 "nbformat": 4,
 "nbformat_minor": 5
}
