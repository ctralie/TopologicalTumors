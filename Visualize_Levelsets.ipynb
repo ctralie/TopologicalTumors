{
 "cells": [
  {
   "cell_type": "markdown",
   "metadata": {},
   "source": [
    "# Tumor Levelset Extraction\n",
    "\n",
    "The purpose of this notebook is to create an HTML table visualizing the meshes corresponding to the levelsets of the tumor segmentation boundaries\n",
    "\n",
    "## Step 1: Load Data"
   ]
  },
  {
   "cell_type": "code",
   "execution_count": 1,
   "metadata": {},
   "outputs": [],
   "source": [
    "import nibabel as nib\n",
    "import numpy as np \n",
    "import matplotlib.pyplot as plt\n",
    "from skimage import measure # For marching cubes\n",
    "import polyscope as ps # For mesh display\n",
    "import pandas as pd\n",
    "import os\n",
    "import glob\n",
    "\n",
    "def load_dictionary(metadata_path):\n",
    "    df = pd.read_csv(metadata_path)\n",
    "    data = {}\n",
    "    for index, row in df.iterrows():\n",
    "        patient_id = row[\"ID\"]\n",
    "        patient_id = \"M-0\".join(patient_id.split(\"M-\")) #File paths have an extra 0 in ID\n",
    "        data[patient_id] = row\n",
    "    del data[\"UCSF-PDGM-0541\"] # Skip Patient 541 because segmentation file is empty\n",
    "    return data"
   ]
  },
  {
   "cell_type": "code",
   "execution_count": 2,
   "metadata": {},
   "outputs": [],
   "source": [
    "def argsort(seq):\n",
    "    return np.array(sorted(range(len(seq)), key=seq.__getitem__), dtype=int)\n",
    "\n",
    "metadata_path = \"Data/UCSF-PDGM-metadata_v2.csv\"\n",
    "all_data_path = \"Data/UCSF-PDGM-v3\"\n",
    "data = load_dictionary(metadata_path) \n",
    "\n",
    "patients = list(data.keys())\n",
    "diagnosis = [data[p][\"Final pathologic diagnosis (WHO 2021)\"] for p in patients]\n",
    "dead = np.array([data[p][\"1-dead 0-alive\"] for p in patients])\n",
    "# Sort by dead/alive first, then by diagnosis\n",
    "idx = np.argsort(dead)\n",
    "idx = idx[argsort([diagnosis[i] for i in idx])]\n",
    "patients = [patients[i] for i in idx]\n"
   ]
  },
  {
   "cell_type": "markdown",
   "metadata": {},
   "source": [
    "## Step 2: Extract meshes from all patients at 3 different isolevels (outer tissue, main tissue, necrotic tissue)"
   ]
  },
  {
   "cell_type": "code",
   "execution_count": 3,
   "metadata": {},
   "outputs": [
    {
     "name": "stdout",
     "output_type": "stream",
     "text": [
      "..................................................."
     ]
    }
   ],
   "source": [
    "iso_levels = [0.5, 1.5, 3.5] # Isolevels to extract\n",
    "for i, patient in enumerate(os.listdir(all_data_path)):\n",
    "    if i%10 == 0:\n",
    "        print(\".\", end=\"\")\n",
    "    patient_folder_path = os.path.join(all_data_path, patient)\n",
    "    patient = patient[:-6]\n",
    "    if patient in data:\n",
    "        tumor_seg_path = patient_folder_path + \"/\" + patient_folder_path[-20:-6] + \"_tumor_segmentation.nii.gz\"\n",
    "        tumor_seg_nifti = nib.load(tumor_seg_path)\n",
    "        tumor_seg_mat = tumor_seg_nifti.get_fdata()\n",
    "        \n",
    "        #Confirm the affine matrix is indeed non-scaling + arbitrary translation vector. If not report out.\n",
    "        affine_mat = tumor_seg_nifti.affine[:3, :3]\n",
    "        if affine_mat[0,0] == -1 and affine_mat[1,1] == -1 and affine_mat[2,2] == 1:\n",
    "            for k, level in enumerate(iso_levels):\n",
    "                try:\n",
    "                    data[patient][\"V{}\".format(k)], data[patient][\"T{}\".format(k)], _, _ = measure.marching_cubes(tumor_seg_mat, level)\n",
    "                except:\n",
    "                    # Empty mesh (only happens for necrotic tissue)\n",
    "                    data[patient][\"V{}\".format(k)] = np.array([])\n",
    "                    data[patient][\"T{}\".format(k)] = np.array([], dtype=int)\n",
    "        else:\n",
    "            print(\"Nonstandard scaling\", patient, affine_mat)"
   ]
  },
  {
   "cell_type": "markdown",
   "metadata": {},
   "source": [
    "## Step 3: Visualize Data"
   ]
  },
  {
   "cell_type": "code",
   "execution_count": 4,
   "metadata": {},
   "outputs": [
    {
     "name": "stdout",
     "output_type": "stream",
     "text": [
      "[polyscope] Backend: openGL3_glfw -- Loaded openGL version: 4.6 (Core Profile) Mesa 22.0.5\n",
      "UCSF-PDGM-0289 does not have mesh info\n",
      "UCSF-PDGM-0278 does not have mesh info\n",
      "UCSF-PDGM-0181 does not have mesh info\n",
      "UCSF-PDGM-0175 does not have mesh info\n",
      "UCSF-PDGM-0138 does not have mesh info\n",
      "UCSF-PDGM-0315 does not have mesh info\n"
     ]
    },
    {
     "data": {
      "text/plain": [
       "0"
      ]
     },
     "execution_count": 4,
     "metadata": {},
     "output_type": "execute_result"
    }
   ],
   "source": [
    "ps.init()\n",
    "\n",
    "center = np.array(list(tumor_seg_mat.shape))/2\n",
    "camera_pos = -center\n",
    "\n",
    "table_style = \"\"\"\n",
    " table, th, td {\n",
    "  border: 1px solid;\n",
    "}\"\"\"\n",
    "\n",
    "fout = open(\"viz/index.html\", \"w\")\n",
    "fout.write(\"<html><head><style>{}</style></head>\\n<body>\\n<table><tr><td><h2>Patient Info</h2></td>\".format(table_style))\n",
    "fout.write(\"<td><h2>Outer Tissue</h2></td><td><h2>Main Tumor</h2></td><td><h2>Necrotic Tissue</h2></td></tr>\\n\")\n",
    "for p in patients:\n",
    "    d = data[p]\n",
    "    if not \"V0\" in d:\n",
    "        print(p, \"does not have mesh info\")\n",
    "        continue\n",
    "    ps.remove_all_structures()\n",
    "    meshes = []\n",
    "    n_meshes = 3\n",
    "    if d[\"V2\"].size == 0:\n",
    "        n_meshes = 2 # No necrotic tissue\n",
    "    for k in range(n_meshes):\n",
    "        meshes.append(ps.register_surface_mesh(\"tumor%i\"%k, d[\"V%i\"%k], d[\"T%i\"%k]))\n",
    "    \n",
    "    diagnosis = d[\"Final pathologic diagnosis (WHO 2021)\"]\n",
    "    dead = [\"alive\", \"dead\"][d[\"1-dead 0-alive\"]]\n",
    "    fout.write(\"<tr>\")\n",
    "    fout.write(\"<td><h2>{}</h2><h2>{}</h2><h2>{}</h2>\".format(p, diagnosis, dead))\n",
    "    for k in range(n_meshes):\n",
    "        for m in meshes:\n",
    "            m.set_enabled(False)\n",
    "        meshes[k].set_enabled(True)\n",
    "        filename = \"viz/{}_{}.jpg\".format(p, k)\n",
    "        ps.look_at((0, 0, 0), center)\n",
    "        ps.screenshot(filename=filename)\n",
    "        fout.write(\"<td><img src=\\\"{}_{}.jpg\\\"></td>\".format(p, k))\n",
    "    fout.write(\"</tr>\\n\")\n",
    "    \n",
    "    fout.flush()\n",
    "fout.close()\n",
    "    \n",
    "# Downscale all images to 50%\n",
    "import subprocess\n",
    "subprocess.call([\"mogrify\", \"-resize\", \"50%\", \"viz/*.jpg\"])\n",
    "subprocess.call([\"mogrify\", \"-trim\", \"viz/*.jpg\"])"
   ]
  },
  {
   "cell_type": "code",
   "execution_count": null,
   "metadata": {},
   "outputs": [],
   "source": []
  }
 ],
 "metadata": {
  "interpreter": {
   "hash": "5320f2ec3284ddd5d332c99c8f3a5269bdd51c31dad2dcafcf6a8b678cda6e4c"
  },
  "kernelspec": {
   "display_name": "Python 3 (ipykernel)",
   "language": "python",
   "name": "python3"
  },
  "language_info": {
   "codemirror_mode": {
    "name": "ipython",
    "version": 3
   },
   "file_extension": ".py",
   "mimetype": "text/x-python",
   "name": "python",
   "nbconvert_exporter": "python",
   "pygments_lexer": "ipython3",
   "version": "3.9.15"
  }
 },
 "nbformat": 4,
 "nbformat_minor": 2
}
