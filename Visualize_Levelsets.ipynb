{
 "cells": [
  {
   "cell_type": "markdown",
   "metadata": {},
   "source": [
    "# Tumor Levelset Extraction\n",
    "\n",
    "The purpose of this notebook is to create an HTML table visualizing the meshes corresponding to the levelsets of the tumor segmentation boundaries\n",
    "\n",
    "## Step 1: Load Data"
   ]
  },
  {
   "cell_type": "code",
   "execution_count": null,
   "metadata": {},
   "outputs": [],
   "source": [
    "import nibabel as nib\n",
    "import numpy as np \n",
    "import matplotlib.pyplot as plt\n",
    "from skimage import measure # For marching cubes\n",
    "import polyscope as ps # For mesh display\n",
    "import pandas as pd\n",
    "import os\n",
    "import glob\n",
    "\n",
    "def load_dictionary(metadata_path):\n",
    "    df = pd.read_csv(metadata_path)\n",
    "    data = {}\n",
    "    for index, row in df.iterrows():\n",
    "        patient_id = row[\"ID\"]\n",
    "        patient_id = \"M-0\".join(patient_id.split(\"M-\")) #File paths have an extra 0 in ID\n",
    "        data[patient_id] = row\n",
    "    del data[\"UCSF-PDGM-0541\"] # Skip Patient 541 because segmentation file is empty\n",
    "    return data"
   ]
  },
  {
   "cell_type": "code",
   "execution_count": null,
   "metadata": {},
   "outputs": [],
   "source": [
    "def argsort(seq):\n",
    "    return np.array(sorted(range(len(seq)), key=seq.__getitem__), dtype=int)\n",
    "\n",
    "metadata_path = \"Data/UCSF-PDGM-metadata_v2.csv\"\n",
    "all_data_path = \"Data/UCSF-PDGM-v3\"\n",
    "data = load_dictionary(metadata_path) \n",
    "\n",
    "patients = list(data.keys())\n",
    "diagnosis = [data[p][\"Final pathologic diagnosis (WHO 2021)\"] for p in patients]\n",
    "dead = np.array([data[p][\"1-dead 0-alive\"] for p in patients])\n",
    "# Sort by dead/alive first, then by diagnosis\n",
    "idx = np.argsort(dead)\n",
    "idx = idx[argsort([diagnosis[i] for i in idx])]\n",
    "patients = [patients[i] for i in idx]\n"
   ]
  },
  {
   "cell_type": "markdown",
   "metadata": {},
   "source": [
    "## Step 2: Extract meshes from all patients at 3 different isolevels (edema, main tissue, necrotic tissue)"
   ]
  },
  {
   "cell_type": "code",
   "execution_count": null,
   "metadata": {},
   "outputs": [],
   "source": [
    "iso_names = {1:\"Necrotic\", 2:\"Edema\", 4:\"Main Tumor\"} # What the labels actually mean\n",
    "iso_levels = [2, 4, 1] # Column order of the labels\n",
    "for i, patient in enumerate(os.listdir(all_data_path)):\n",
    "    if i%10 == 0:\n",
    "        print(\".\", end=\"\")\n",
    "    patient_folder_path = os.path.join(all_data_path, patient)\n",
    "    patient = patient[:-6]\n",
    "    if patient in data:\n",
    "        tumor_seg_path = patient_folder_path + \"/\" + patient_folder_path[-20:-6] + \"_tumor_segmentation.nii.gz\"\n",
    "        tumor_seg_nifti = nib.load(tumor_seg_path)\n",
    "        tumor_seg_mat = tumor_seg_nifti.get_fdata()\n",
    "        \n",
    "        #Confirm the affine matrix is indeed non-scaling + arbitrary translation vector. If not report out.\n",
    "        affine_mat = tumor_seg_nifti.affine[:3, :3]\n",
    "        if affine_mat[0,0] == -1 and affine_mat[1,1] == -1 and affine_mat[2,2] == 1:\n",
    "            for k, level in enumerate(iso_levels):\n",
    "                try:\n",
    "                    binary = tumor_seg_mat==level\n",
    "                    data[patient][\"count{}\".format(k)] = np.sum(binary)\n",
    "                    data[patient][\"V{}\".format(k)], data[patient][\"T{}\".format(k)], _, _ = measure.marching_cubes(binary, 0.5)\n",
    "                except:\n",
    "                    #print(\"Empty mesh\", patient, iso_names[iso_levels[k]])\n",
    "                    data[patient][\"V{}\".format(k)] = np.array([])\n",
    "                    data[patient][\"T{}\".format(k)] = np.array([], dtype=int)\n",
    "        else:\n",
    "            print(\"Nonstandard scaling\", patient, affine_mat)"
   ]
  },
  {
   "cell_type": "markdown",
   "metadata": {},
   "source": [
    "## Step 3: Visualize Data"
   ]
  },
  {
   "cell_type": "code",
   "execution_count": null,
   "metadata": {},
   "outputs": [],
   "source": [
    "ps.init()\n",
    "\n",
    "center = np.array(list(tumor_seg_mat.shape))/2\n",
    "camera_pos = np.zeros(3)\n",
    "camera_pos[0] = center[0]\n",
    "camera_pos[1] = center[1]\n",
    "camera_pos[2] = -center[2]*4\n",
    "\n",
    "table_style = \"\"\"\n",
    " table, th, td {\n",
    "  border: 1px solid;\n",
    "}\"\"\"\n",
    "display_names = [iso_names[i] for i in iso_levels]\n",
    "fout = open(\"viz/index.html\", \"w\")\n",
    "fout.write(\"<html><head><style>{}</style></head>\\n<body>\\n<table><tr><td><h2>Patient Info</h2></td>\".format(table_style))\n",
    "fout.write(\"<td><h2>{}</h2></td><td><h2>{}</h2></td><td><h2>{}</h2></td></tr>\\n\".format(*tuple(display_names)))\n",
    "for p in patients:\n",
    "    d = data[p]\n",
    "    diagnosis = d[\"Final pathologic diagnosis (WHO 2021)\"]\n",
    "    dead = [\"alive\", \"dead\"][d[\"1-dead 0-alive\"]]\n",
    "    OS = d[\"OS\"]\n",
    "    if not \"Glioblastoma\" in diagnosis:\n",
    "        continue\n",
    "    if not \"V0\" in d:\n",
    "        print(p, \"does not have mesh info\")\n",
    "        continue\n",
    "    ps.remove_all_structures()\n",
    "    meshes = []\n",
    "    for k in range(3):\n",
    "        m = None\n",
    "        if d[\"V%i\"%k].size > 0:\n",
    "            m = ps.register_surface_mesh(\"tumor%i\"%k, d[\"V%i\"%k], d[\"T%i\"%k])\n",
    "        meshes.append(m)\n",
    "    ps.look_at(camera_pos, center)\n",
    "    #ps.set_view_projection_mode(\"orthographic\")\n",
    "\n",
    "    fout.write(\"<tr>\")\n",
    "    fout.write(\"<td><h2>{}</h2><h2>{}</h2><h2>{}</h2><h2>OS: {}</h2>\".format(p, diagnosis, dead, OS))\n",
    "    for k in range(3):\n",
    "        for m in meshes:\n",
    "            if m:\n",
    "                m.set_enabled(False)\n",
    "        if meshes[k]:\n",
    "            meshes[k].set_enabled(True)\n",
    "        filename = \"viz/{}_{}.jpg\".format(p, k)\n",
    "        ps.screenshot(filename=filename)\n",
    "        count = d[\"count%i\"%k]\n",
    "        V = d[\"V%i\"%k]\n",
    "        T = d[\"T%i\"%k]\n",
    "        fout.write(\"<td><p>Count {}, {} Vertices, {} Triangles</p><img src=\\\"{}_{}.jpg\\\"></td>\".format(count, V.shape[0], T.shape[0], p, k))\n",
    "    fout.write(\"</tr>\\n\")\n",
    "    \n",
    "    fout.flush()\n",
    "fout.close()\n",
    "    \n",
    "# Downscale all images to 50% and autocrop them.  Requires imagemagick\n",
    "import subprocess\n",
    "subprocess.call([\"mogrify\", \"-resize\", \"50%\", \"viz/*.jpg\"])\n",
    "subprocess.call([\"mogrify\", \"-trim\", \"viz/*.jpg\"])"
   ]
  },
  {
   "cell_type": "code",
   "execution_count": null,
   "metadata": {},
   "outputs": [],
   "source": []
  }
 ],
 "metadata": {
  "interpreter": {
   "hash": "5320f2ec3284ddd5d332c99c8f3a5269bdd51c31dad2dcafcf6a8b678cda6e4c"
  },
  "kernelspec": {
   "display_name": "Python 3 (ipykernel)",
   "language": "python",
   "name": "python3"
  },
  "language_info": {
   "codemirror_mode": {
    "name": "ipython",
    "version": 3
   },
   "file_extension": ".py",
   "mimetype": "text/x-python",
   "name": "python",
   "nbconvert_exporter": "python",
   "pygments_lexer": "ipython3",
   "version": "3.9.15"
  }
 },
 "nbformat": 4,
 "nbformat_minor": 2
}
